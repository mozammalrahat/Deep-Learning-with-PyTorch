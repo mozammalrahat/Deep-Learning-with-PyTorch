{
  "nbformat": 4,
  "nbformat_minor": 0,
  "metadata": {
    "colab": {
      "provenance": []
    },
    "kernelspec": {
      "name": "python3",
      "display_name": "Python 3"
    },
    "language_info": {
      "name": "python"
    },
    "gpuClass": "standard"
  },
  "cells": [
    {
      "cell_type": "markdown",
      "source": [
        "# **Imbalanced Dataset Handing**\n",
        "\n",
        "* The code addresses the issue of imbalanced datasets, where some classes have significantly fewer samples than others.\n",
        "Imbalanced datasets can lead to biased models and poor performance on the less common classes.\n",
        "* The code offers two methods for handling imbalanced datasets: oversampling and class weighting.\n",
        "Oversampling generates additional samples for underrepresented classes, while class weighting assigns higher weights to the loss of samples in underrepresented classes.\n",
        "* The get_loader function takes a dataset root directory and batch size, and returns a PyTorch data loader.\n",
        "* The get_loader function applies transformations to the images in the dataset and calculates class weights based on the number of samples in each class.\n",
        "\n",
        "* The get_loader function creates a WeightedRandomSampler object, which randomly selects a batch of samples with a probability proportional to their weights.\n",
        "\n",
        "* The main function uses the data loader to iterate over the dataset for 10 epochs and counts the number of samples in each class.\n",
        "The final output of the code is the counts for each class.\n",
        "\n",
        "\n"
      ],
      "metadata": {
        "id": "77K3PNn5IJQI"
      }
    },
    {
      "cell_type": "code",
      "execution_count": 18,
      "metadata": {
        "id": "kxh-2RUIHgvY"
      },
      "outputs": [],
      "source": [
        "import torch\n",
        "import torchvision.datasets as datasets\n",
        "import os\n",
        "from torch.utils.data import WeightedRandomSampler, DataLoader\n",
        "import torchvision.transforms as transforms\n",
        "import torch.nn as nn"
      ]
    },
    {
      "cell_type": "code",
      "source": [
        "def get_dataloader(root_dir, batch_size):\n",
        "  my_transforms = transforms.Compose(\n",
        "      [\n",
        "        transforms.Resize((224,224)),\n",
        "        transforms.ToTensor(),\n",
        "      ]\n",
        "  )\n",
        "\n",
        "  dataset = datasets.ImageFolder(root=root_dir, transform = my_transforms)\n",
        "  subdirectories = dataset.classes\n",
        "  class_weights = []\n",
        "\n",
        "  for subdir in subdirectories:\n",
        "    files = os.listdir(os.path.join(root_dir, subdir))\n",
        "    class_weights.append(1/len(files))\n",
        "  \n",
        "  sample_weights = [0]*len(dataset)\n",
        "\n",
        "  for idx, (data, label) in enumerate(dataset):\n",
        "    class_weight = class_weights[label]\n",
        "    sample_weights[idx] = class_weight\n",
        "  \n",
        "  sampler = WeightedRandomSampler(\n",
        "      sample_weights, num_samples = len(sample_weights), replacement = True\n",
        "  )\n",
        "\n",
        "  loader = DataLoader(dataset, batch_size=batch_size, sampler = sampler)\n",
        "\n",
        "  return loader"
      ],
      "metadata": {
        "id": "Pa_VTjVzI7Dw"
      },
      "execution_count": 19,
      "outputs": []
    },
    {
      "cell_type": "code",
      "source": [
        "loader = get_dataloader(root_dir=\"/content/retrivers_elkhounds\", batch_size=10)\n",
        "num_retrivers = 0\n",
        "num_elkhounds = 0"
      ],
      "metadata": {
        "id": "Hpeb9_-9Ld9H"
      },
      "execution_count": 20,
      "outputs": []
    },
    {
      "cell_type": "code",
      "source": [
        "for epoch in range(10):\n",
        "  for data, labels in loader:\n",
        "    num_retrivers += torch.sum(labels == 0)\n",
        "    num_elkhounds += torch.sum(labels == 1)"
      ],
      "metadata": {
        "id": "-EgnxTN_L29K"
      },
      "execution_count": 21,
      "outputs": []
    },
    {
      "cell_type": "code",
      "source": [
        "print(num_retrivers.item())\n",
        "print(num_elkhounds.item())"
      ],
      "metadata": {
        "colab": {
          "base_uri": "https://localhost:8080/"
        },
        "id": "0ioRy-xPMMNI",
        "outputId": "da0fe58d-be31-48a3-899e-944e6396adbf"
      },
      "execution_count": 22,
      "outputs": [
        {
          "output_type": "stream",
          "name": "stdout",
          "text": [
            "254\n",
            "256\n"
          ]
        }
      ]
    }
  ]
}